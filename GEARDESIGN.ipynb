{
 "cells": [
  {
   "cell_type": "markdown",
   "metadata": {},
   "source": [
    "## Design of Spure Gear using Python.\n",
    "![](SpurGear.jpg)"
   ]
  },
  {
   "cell_type": "code",
   "execution_count": 98,
   "metadata": {},
   "outputs": [],
   "source": [
    "from colorama import Fore, Back, Style "
   ]
  },
  {
   "cell_type": "code",
   "execution_count": 110,
   "metadata": {
    "collapsed": true
   },
   "outputs": [
    {
     "name": "stdout",
     "output_type": "stream",
     "text": [
      "\u001b[31mEnter SPUR GEAR Design data\u001b[0m\n",
      "Enter Power to transmit in Kw 7.5\n",
      "Enter RPM of system  1440\n",
      "Enter Number of teeth on gear Zg = 48\n",
      "Enter Number of teeth on pinion Zp = 22\n",
      "Enter Center distance between gear and pinion CD = 235\n",
      "Enter Pressure angle of gear (20 ° OR 14.5°  )20\n",
      "Enter the material for gear(CI or S) CI\n",
      "Material for gear is  CI\n",
      "Enter the material for pinion(CI or S) CI\n",
      "Material for pinion is  CI\n",
      "Enter I for Inretnal and E for External Gear= E\n",
      "Enter Ultimate Tensile Strength of gear material Sutg in N/mm ² = 600\n",
      "Enter Ultimate Tensile Strength of pinion material Sutp in N/mm ² = 300\n",
      "Enter Hardness of Gear Material in BHN = 280\n",
      "Enter factor of ssafety for matrial = 2.8\n",
      "\u001b[31mOUTPUT of the GEAR PARAMETERS\n",
      "Gear Ration is =  2\n",
      "Module of the Gear = 6 mm\n",
      "Lewis form factor= 0.4243125\n",
      "Beam Strangth Fb = 40990.071975218656 N\n",
      "Pinion dia= 147 mm\n",
      "Gear dia= 322 mm\n",
      "Wear Strangth Fw = 6057852.84923077 N\n",
      "Gear is Weaker in Bending It is required to design a gear pair against the bending failure\n"
     ]
    }
   ],
   "source": [
    "cprint( \"Enter SPUR GEAR Design data\",\"red\")\n",
    "\n",
    "\n",
    "Pw=input(\"Enter Power to transmit in Kw \")\n",
    "P=float(Pw)\n",
    "\n",
    "Ns=input(\"Enter RPM of system  \")\n",
    "N=int(Ns)\n",
    "\n",
    "Z=input(\"Enter Number of teeth on gear Zg = \")\n",
    "Zg=int(Z)\n",
    "ZP=input(\"Enter Number of teeth on pinion Zp = \")\n",
    "Zp=int(ZP)\n",
    "\n",
    "cd=input(\"Enter Center distance between gear and pinion CD = \")\n",
    "CD=float(cd)\n",
    "\n",
    "pa=input(\"Enter Pressure angle of gear (20 ° OR 14.5°)=\")\n",
    "φ=float(pa)\n",
    "\n",
    "Mg=input(\"Enter the material for gear(CI or S) \")\n",
    "print(\"Material for gear is \",Mg)\n",
    "\n",
    "Mp=input(\"Enter the material for pinion(CI or S) \")\n",
    "print(\"Material for pinion is \",Mp)\n",
    "\n",
    "gs=input(\"Enter I for Inretnal and E for External Gear= \")\n",
    "\n",
    "Sg=input(\"Enter Ultimate Tensile Strength of gear material Sutg in N/mm \\u00b2 = \")\n",
    "Sutg=float(Sg)\n",
    "\n",
    "Sp=input(\"Enter Ultimate Tensile Strength of pinion material Sutp in N/mm \\u00b2 = \")\n",
    "Sutp=float(Sp)\n",
    "\n",
    "H=input(\"Enter Hardness of Gear Material in BHN = \")\n",
    "BHN=int(H)\n",
    "\n",
    "fos=input(\"Enter factor of safety for matrial = \")\n",
    "FOS=float(fos)\n",
    "\n",
    "print(Fore.RED + \"OUTPUT of the GEAR PARAMETERS\")\n",
    "G=(Zg/Zp)\n",
    "print(\"Gear Ration is = \",int (G))\n",
    "m= (CD * 2)/(Zg+Zp)\n",
    "print(\"Module of the Gear =\" ,int(m) ,'mm')\n",
    "\n",
    "b=10*m    #face width\n",
    "\n",
    "if φ == 20:\n",
    "    Y=0.484-(2.865/Zg)\n",
    "    print(\"Lewis form factor=\",Y)\n",
    "if φ == 14.5:\n",
    "    Y=0.39-(2.148/Zg)\n",
    "    print(\"Lewis form factor=\",Y)\n",
    "\n",
    "σ= (Sutg/FOS)\n",
    "\n",
    "Fb = σ* b * m* Y\n",
    "print(\"Beam Strangth Fb =\",Fb , \"N\")\n",
    "\n",
    "if gs==\"I\":\n",
    "    #print(\"Internal Gear Pair\")\n",
    "    Q=(2*Zg/(Zg+Zp))\n",
    "    print(\"Q=\",Q)\n",
    "if gs==\"E\":\n",
    "    #print(\" External Gear Pair\") \n",
    "    Q=(2*Zg/(Zg-Zp))\n",
    "    #print(\"Q=\",Q)\n",
    "    \n",
    "    \n",
    "dp=m*Zp\n",
    "print(\"Pinion dia=\",int(dp) ,\"mm\")\n",
    "dg=m*Zg\n",
    "print(\"Gear dia=\",int(dg) ,\"mm\")\n",
    "#K Load stress factor in N/mm which depends on the material of gear.\n",
    "\n",
    "if (Mg==\"CI\" and Mp==\"CI\"):\n",
    "    K=0.211*((BHN**2)/(100))\n",
    "    \n",
    "\n",
    "if (Mg==\"S\" and Mp==\"S\"):\n",
    "    K=0.16*((BHN**2)/(100))\n",
    "    \n",
    "\n",
    "if (Mg==\"CI\" and Mp==\"S\"):\n",
    "    K=0.184*((BHN**2)/(100))\n",
    "    \n",
    "#print(\"Load stress factor =\",K, \"N /mm\\u00b2\")\n",
    "\n",
    "Fw=dp * b * Q * K\n",
    "print(\"Wear Strangth Fw =\",Fw , \"N\")\n",
    "\n",
    "\n",
    "\n",
    "if Fb < Fw :\n",
    "    print(\"Gear is Weaker in Bending It is required to design a gear pair against the bending failure\")\n",
    "else:\n",
    "    print(\"Gear is Weaker in Wear Strangth\")"
   ]
  },
  {
   "cell_type": "code",
   "execution_count": null,
   "metadata": {},
   "outputs": [],
   "source": []
  },
  {
   "cell_type": "code",
   "execution_count": null,
   "metadata": {
    "scrolled": true
   },
   "outputs": [],
   "source": []
  },
  {
   "cell_type": "code",
   "execution_count": null,
   "metadata": {},
   "outputs": [],
   "source": []
  }
 ],
 "metadata": {
  "kernelspec": {
   "display_name": "Python 3",
   "language": "python",
   "name": "python3"
  },
  "language_info": {
   "codemirror_mode": {
    "name": "ipython",
    "version": 3
   },
   "file_extension": ".py",
   "mimetype": "text/x-python",
   "name": "python",
   "nbconvert_exporter": "python",
   "pygments_lexer": "ipython3",
   "version": "3.8.3"
  }
 },
 "nbformat": 4,
 "nbformat_minor": 4
}
